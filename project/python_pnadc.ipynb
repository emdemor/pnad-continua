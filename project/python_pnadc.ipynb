{
 "cells": [
  {
   "cell_type": "code",
   "execution_count": 2,
   "id": "e36a44de-c1c2-4807-977e-cd42c011cd33",
   "metadata": {},
   "outputs": [],
   "source": [
    "# !pip install  matplotlib"
   ]
  },
  {
   "cell_type": "code",
   "execution_count": 1,
   "id": "e2908cea-2dc6-438a-aa3d-0e30ea92c831",
   "metadata": {},
   "outputs": [],
   "source": [
    "from src import pnadc\n",
    "import pandas as pd"
   ]
  },
  {
   "cell_type": "code",
   "execution_count": 2,
   "id": "677613d4-37f1-4540-aa07-1914a10d9908",
   "metadata": {},
   "outputs": [
    {
     "name": "stderr",
     "output_type": "stream",
     "text": [
      "\u001b[32m2023-09-17 03:28:32.817\u001b[0m | \u001b[1mINFO    \u001b[0m | \u001b[36msrc.pnadc\u001b[0m:\u001b[36m_format_dict\u001b[0m:\u001b[36m74\u001b[0m - \u001b[1mImporting data/dicionario_PNADC_microdados_trimestral.xls\u001b[0m\n",
      "\u001b[32m2023-09-17 03:28:32.847\u001b[0m | \u001b[1mINFO    \u001b[0m | \u001b[36msrc.pnadc\u001b[0m:\u001b[36m_format_dict\u001b[0m:\u001b[36m88\u001b[0m - \u001b[1mFiltering rows\u001b[0m\n",
      "\u001b[32m2023-09-17 03:28:32.849\u001b[0m | \u001b[1mINFO    \u001b[0m | \u001b[36msrc.pnadc\u001b[0m:\u001b[36m_format_dict\u001b[0m:\u001b[36m100\u001b[0m - \u001b[1mExporting formatted dataset to data/pnadc_metadata.csv\u001b[0m\n",
      "\u001b[32m2023-09-17 03:28:33.111\u001b[0m | \u001b[1mINFO    \u001b[0m | \u001b[36msrc.pnadc\u001b[0m:\u001b[36mget_pnadc\u001b[0m:\u001b[36m33\u001b[0m - \u001b[1mDownloading data from PNADC from 'Trabalho_e_Rendimento/Pesquisa_Nacional_por_Amostra_de_Domicilios_continua/Trimestral/Microdados/2021/PNADC_032021_20220916.zip' and saving in 'data/PNADC_032021_20220916.zip'\u001b[0m\n",
      "\u001b[32m2023-09-17 03:29:08.497\u001b[0m | \u001b[1mINFO    \u001b[0m | \u001b[36msrc.pnadc\u001b[0m:\u001b[36mget_pnadc\u001b[0m:\u001b[36m36\u001b[0m - \u001b[1mExtracting data from 'data/PNADC_032021_20220916.zip' to 'data/PNADC_032021.txt'\u001b[0m\n",
      "\u001b[32m2023-09-17 03:29:11.374\u001b[0m | \u001b[1mINFO    \u001b[0m | \u001b[36msrc.pnadc\u001b[0m:\u001b[36mget_pnadc\u001b[0m:\u001b[36m40\u001b[0m - \u001b[1mImporting PNADC metadata\u001b[0m\n",
      "\u001b[32m2023-09-17 03:29:11.376\u001b[0m | \u001b[1mINFO    \u001b[0m | \u001b[36msrc.pnadc\u001b[0m:\u001b[36mget_pnadc\u001b[0m:\u001b[36m43\u001b[0m - \u001b[1mReading PNADC dataframe from 'data/PNADC_032021.txt'\u001b[0m\n",
      "\u001b[32m2023-09-17 03:30:26.456\u001b[0m | \u001b[1mINFO    \u001b[0m | \u001b[36msrc.pnadc\u001b[0m:\u001b[36mget_pnadc\u001b[0m:\u001b[36m48\u001b[0m - \u001b[1mExport PNADC dataframe to 'data/pnadc_032021.parquet'\u001b[0m\n",
      "\u001b[32m2023-09-17 03:30:40.527\u001b[0m | \u001b[1mINFO    \u001b[0m | \u001b[36msrc.pnadc\u001b[0m:\u001b[36mget_pnadc\u001b[0m:\u001b[36m51\u001b[0m - \u001b[1mPNADC microdata can be accessed in data/pnadc_032021.parquet\u001b[0m\n"
     ]
    }
   ],
   "source": [
    "metadata_filepath = pnadc.get_pnadc_metadata()\n",
    "pnadc_filepath = pnadc.get_pnadc(ano=2021, trimestre=3)"
   ]
  },
  {
   "cell_type": "code",
   "execution_count": null,
   "id": "cca20636-be38-4507-b3f0-f11d5e33aa8e",
   "metadata": {},
   "outputs": [],
   "source": []
  },
  {
   "cell_type": "code",
   "execution_count": 3,
   "id": "173af0b8-d155-4103-909c-b9294fe42167",
   "metadata": {},
   "outputs": [],
   "source": [
    "metadata = pd.read_csv(\"data/pnadc_metadata.csv\")"
   ]
  },
  {
   "cell_type": "code",
   "execution_count": 4,
   "id": "e02f1f01-412a-4850-82b0-d3e3b12fb9a8",
   "metadata": {},
   "outputs": [],
   "source": [
    "pnadc = pd.read_parquet(\"data/pnadc_032021.parquet\")"
   ]
  },
  {
   "cell_type": "code",
   "execution_count": 11,
   "id": "179e2412-108d-4a63-9bb3-6457258e93b2",
   "metadata": {},
   "outputs": [
    {
     "data": {
      "text/html": [
       "<div>\n",
       "<style scoped>\n",
       "    .dataframe tbody tr th:only-of-type {\n",
       "        vertical-align: middle;\n",
       "    }\n",
       "\n",
       "    .dataframe tbody tr th {\n",
       "        vertical-align: top;\n",
       "    }\n",
       "\n",
       "    .dataframe thead th {\n",
       "        text-align: right;\n",
       "    }\n",
       "</style>\n",
       "<table border=\"1\" class=\"dataframe\">\n",
       "  <thead>\n",
       "    <tr style=\"text-align: right;\">\n",
       "      <th>codigo_da_variavel</th>\n",
       "      <th>Ano</th>\n",
       "      <th>Trimestre</th>\n",
       "      <th>UF</th>\n",
       "      <th>Capital</th>\n",
       "      <th>RM_RIDE</th>\n",
       "      <th>UPA</th>\n",
       "      <th>Estrato</th>\n",
       "      <th>V1008</th>\n",
       "      <th>V1014</th>\n",
       "      <th>V1016</th>\n",
       "      <th>...</th>\n",
       "      <th>V1028191</th>\n",
       "      <th>V1028192</th>\n",
       "      <th>V1028193</th>\n",
       "      <th>V1028194</th>\n",
       "      <th>V1028195</th>\n",
       "      <th>V1028196</th>\n",
       "      <th>V1028197</th>\n",
       "      <th>V1028198</th>\n",
       "      <th>V1028199</th>\n",
       "      <th>V1028200</th>\n",
       "    </tr>\n",
       "  </thead>\n",
       "  <tbody>\n",
       "    <tr>\n",
       "      <th>0</th>\n",
       "      <td>2021</td>\n",
       "      <td>3</td>\n",
       "      <td>11</td>\n",
       "      <td>11.0</td>\n",
       "      <td>NaN</td>\n",
       "      <td>110000016</td>\n",
       "      <td>1110011</td>\n",
       "      <td>1</td>\n",
       "      <td>9</td>\n",
       "      <td>1</td>\n",
       "      <td>...</td>\n",
       "      <td>371.761638</td>\n",
       "      <td>418.473403</td>\n",
       "      <td>181.022922</td>\n",
       "      <td>199.25098</td>\n",
       "      <td>178.127877</td>\n",
       "      <td>181.654545</td>\n",
       "      <td>178.400546</td>\n",
       "      <td>170.24014</td>\n",
       "      <td>529.899895</td>\n",
       "      <td>0.0</td>\n",
       "    </tr>\n",
       "    <tr>\n",
       "      <th>1</th>\n",
       "      <td>2021</td>\n",
       "      <td>3</td>\n",
       "      <td>11</td>\n",
       "      <td>11.0</td>\n",
       "      <td>NaN</td>\n",
       "      <td>110000016</td>\n",
       "      <td>1110011</td>\n",
       "      <td>1</td>\n",
       "      <td>9</td>\n",
       "      <td>1</td>\n",
       "      <td>...</td>\n",
       "      <td>371.761638</td>\n",
       "      <td>418.473403</td>\n",
       "      <td>181.022922</td>\n",
       "      <td>199.25098</td>\n",
       "      <td>178.127877</td>\n",
       "      <td>181.654545</td>\n",
       "      <td>178.400546</td>\n",
       "      <td>170.24014</td>\n",
       "      <td>529.899895</td>\n",
       "      <td>0.0</td>\n",
       "    </tr>\n",
       "    <tr>\n",
       "      <th>2</th>\n",
       "      <td>2021</td>\n",
       "      <td>3</td>\n",
       "      <td>11</td>\n",
       "      <td>11.0</td>\n",
       "      <td>NaN</td>\n",
       "      <td>110000016</td>\n",
       "      <td>1110011</td>\n",
       "      <td>1</td>\n",
       "      <td>9</td>\n",
       "      <td>1</td>\n",
       "      <td>...</td>\n",
       "      <td>371.761638</td>\n",
       "      <td>418.473403</td>\n",
       "      <td>181.022922</td>\n",
       "      <td>199.25098</td>\n",
       "      <td>178.127877</td>\n",
       "      <td>181.654545</td>\n",
       "      <td>178.400546</td>\n",
       "      <td>170.24014</td>\n",
       "      <td>529.899895</td>\n",
       "      <td>0.0</td>\n",
       "    </tr>\n",
       "    <tr>\n",
       "      <th>3</th>\n",
       "      <td>2021</td>\n",
       "      <td>3</td>\n",
       "      <td>11</td>\n",
       "      <td>11.0</td>\n",
       "      <td>NaN</td>\n",
       "      <td>110000016</td>\n",
       "      <td>1110011</td>\n",
       "      <td>1</td>\n",
       "      <td>9</td>\n",
       "      <td>1</td>\n",
       "      <td>...</td>\n",
       "      <td>371.761638</td>\n",
       "      <td>418.473403</td>\n",
       "      <td>181.022922</td>\n",
       "      <td>199.25098</td>\n",
       "      <td>178.127877</td>\n",
       "      <td>181.654545</td>\n",
       "      <td>178.400546</td>\n",
       "      <td>170.24014</td>\n",
       "      <td>529.899895</td>\n",
       "      <td>0.0</td>\n",
       "    </tr>\n",
       "    <tr>\n",
       "      <th>4</th>\n",
       "      <td>2021</td>\n",
       "      <td>3</td>\n",
       "      <td>11</td>\n",
       "      <td>11.0</td>\n",
       "      <td>NaN</td>\n",
       "      <td>110000016</td>\n",
       "      <td>1110011</td>\n",
       "      <td>1</td>\n",
       "      <td>9</td>\n",
       "      <td>1</td>\n",
       "      <td>...</td>\n",
       "      <td>371.761638</td>\n",
       "      <td>418.473403</td>\n",
       "      <td>181.022922</td>\n",
       "      <td>199.25098</td>\n",
       "      <td>178.127877</td>\n",
       "      <td>181.654545</td>\n",
       "      <td>178.400546</td>\n",
       "      <td>170.24014</td>\n",
       "      <td>529.899895</td>\n",
       "      <td>0.0</td>\n",
       "    </tr>\n",
       "  </tbody>\n",
       "</table>\n",
       "<p>5 rows × 420 columns</p>\n",
       "</div>"
      ],
      "text/plain": [
       "codigo_da_variavel   Ano  Trimestre  UF  Capital  RM_RIDE        UPA  Estrato  \\\n",
       "0                   2021          3  11     11.0      NaN  110000016  1110011   \n",
       "1                   2021          3  11     11.0      NaN  110000016  1110011   \n",
       "2                   2021          3  11     11.0      NaN  110000016  1110011   \n",
       "3                   2021          3  11     11.0      NaN  110000016  1110011   \n",
       "4                   2021          3  11     11.0      NaN  110000016  1110011   \n",
       "\n",
       "codigo_da_variavel  V1008  V1014  V1016  ...    V1028191    V1028192  \\\n",
       "0                       1      9      1  ...  371.761638  418.473403   \n",
       "1                       1      9      1  ...  371.761638  418.473403   \n",
       "2                       1      9      1  ...  371.761638  418.473403   \n",
       "3                       1      9      1  ...  371.761638  418.473403   \n",
       "4                       1      9      1  ...  371.761638  418.473403   \n",
       "\n",
       "codigo_da_variavel    V1028193   V1028194    V1028195    V1028196    V1028197  \\\n",
       "0                   181.022922  199.25098  178.127877  181.654545  178.400546   \n",
       "1                   181.022922  199.25098  178.127877  181.654545  178.400546   \n",
       "2                   181.022922  199.25098  178.127877  181.654545  178.400546   \n",
       "3                   181.022922  199.25098  178.127877  181.654545  178.400546   \n",
       "4                   181.022922  199.25098  178.127877  181.654545  178.400546   \n",
       "\n",
       "codigo_da_variavel   V1028198    V1028199  V1028200  \n",
       "0                   170.24014  529.899895       0.0  \n",
       "1                   170.24014  529.899895       0.0  \n",
       "2                   170.24014  529.899895       0.0  \n",
       "3                   170.24014  529.899895       0.0  \n",
       "4                   170.24014  529.899895       0.0  \n",
       "\n",
       "[5 rows x 420 columns]"
      ]
     },
     "execution_count": 11,
     "metadata": {},
     "output_type": "execute_result"
    }
   ],
   "source": [
    "pnadc.head()"
   ]
  },
  {
   "cell_type": "code",
   "execution_count": 13,
   "id": "e1085e4c-9bc3-4494-92c3-559cc5dfbf52",
   "metadata": {},
   "outputs": [
    {
     "data": {
      "text/plain": [
       "V2007\n",
       "2    224543\n",
       "1    210279\n",
       "Name: count, dtype: int64"
      ]
     },
     "execution_count": 13,
     "metadata": {},
     "output_type": "execute_result"
    }
   ],
   "source": [
    "pnadc[\"V2007\"].value_counts()"
   ]
  },
  {
   "cell_type": "code",
   "execution_count": 7,
   "id": "7d4ab993-d985-4e13-a400-f3a2a00094f2",
   "metadata": {},
   "outputs": [
    {
     "data": {
      "text/plain": [
       "<Axes: >"
      ]
     },
     "execution_count": 7,
     "metadata": {},
     "output_type": "execute_result"
    },
    {
     "data": {
      "image/png": "[encoded data removed]",
      "text/plain": [
       "<Figure size 640x480 with 1 Axes>"
      ]
     },
     "metadata": {},
     "output_type": "display_data"
    }
   ],
   "source": [
    "pnadc[\"VD4019\"].clip(0,20000).hist(bins=100)"
   ]
  },
  {
   "cell_type": "code",
   "execution_count": 29,
   "id": "48e18aa2-fe8e-40d4-b6bc-7870165cc6f3",
   "metadata": {},
   "outputs": [],
   "source": [
    "pnadc['e_capital'] = pnadc['Capital'].isna()"
   ]
  },
  {
   "cell_type": "code",
   "execution_count": 30,
   "id": "0468b4a7-caa1-4fba-8d78-434092f7ed71",
   "metadata": {},
   "outputs": [
    {
     "data": {
      "text/html": [
       "<div>\n",
       "<style scoped>\n",
       "    .dataframe tbody tr th:only-of-type {\n",
       "        vertical-align: middle;\n",
       "    }\n",
       "\n",
       "    .dataframe tbody tr th {\n",
       "        vertical-align: top;\n",
       "    }\n",
       "\n",
       "    .dataframe thead th {\n",
       "        text-align: right;\n",
       "    }\n",
       "</style>\n",
       "<table border=\"1\" class=\"dataframe\">\n",
       "  <thead>\n",
       "    <tr style=\"text-align: right;\">\n",
       "      <th></th>\n",
       "      <th>salario</th>\n",
       "    </tr>\n",
       "    <tr>\n",
       "      <th>e_capital</th>\n",
       "      <th></th>\n",
       "    </tr>\n",
       "  </thead>\n",
       "  <tbody>\n",
       "    <tr>\n",
       "      <th>False</th>\n",
       "      <td>3746.390963</td>\n",
       "    </tr>\n",
       "    <tr>\n",
       "      <th>True</th>\n",
       "      <td>2328.358666</td>\n",
       "    </tr>\n",
       "  </tbody>\n",
       "</table>\n",
       "</div>"
      ],
      "text/plain": [
       "               salario\n",
       "e_capital             \n",
       "False      3746.390963\n",
       "True       2328.358666"
      ]
     },
     "execution_count": 30,
     "metadata": {},
     "output_type": "execute_result"
    }
   ],
   "source": [
    "pnadc.groupby('e_capital').agg(\n",
    "    salario = (\"VD4019\", \"mean\"),\n",
    ")\n"
   ]
  },
  {
   "cell_type": "code",
   "execution_count": null,
   "id": "1dd12e42-2c0d-40e6-99bd-2b39d50a2f1c",
   "metadata": {},
   "outputs": [],
   "source": []
  },
  {
   "cell_type": "code",
   "execution_count": null,
   "id": "0f2ccdc8-31b7-4381-ad8e-02ec8e865116",
   "metadata": {},
   "outputs": [],
   "source": []
  },
  {
   "cell_type": "code",
   "execution_count": null,
   "id": "22926252-5278-435e-9cc9-fa2cedf58559",
   "metadata": {},
   "outputs": [],
   "source": []
  },
  {
   "cell_type": "markdown",
   "id": "8de8cc29-6865-4e07-acb5-f2c20bdfa4ae",
   "metadata": {},
   "source": [
    "# Development"
   ]
  },
  {
   "cell_type": "code",
   "execution_count": 6,
   "id": "512306be-84b1-4b97-af66-dc1f80998013",
   "metadata": {},
   "outputs": [],
   "source": []
  },
  {
   "cell_type": "code",
   "execution_count": 7,
   "id": "0d006172-84ea-4869-934a-59bd06ccf1c3",
   "metadata": {},
   "outputs": [],
   "source": [
    "import ftplib\n",
    "import zipfile\n",
    "import pandas as pd\n",
    "from loguru import logger\n",
    "\n",
    "\n",
    "HOST = \"ftp.ibge.gov.br\"\n",
    "BASE_PATH = \"Trabalho_e_Rendimento/Pesquisa_Nacional_por_Amostra_de_Domicilios_continua/Trimestral/Microdados\"\n",
    "DOCUMENTATION_DIR_PATH = f\"{BASE_PATH}/Documentacao\"\n",
    "PNADC_RAW_METADATA_FILENAME = \"dicionario_PNADC_microdados_trimestral.xls\"\n",
    "PNADC_FORMATED_METADATA_FILEPATH = \"data/pnadc_metadata.csv\"\n",
    "\n",
    "DICT_INIT_ROW = 3\n",
    "\n",
    "def get_pnadc_metadata():\n",
    "    dict_ftp_filepath = _get_dict_filepath()\n",
    "    dict_local_filepath = f\"data/{dict_ftp_filepath}\"\n",
    "    _download_file(ftp_path=DOCUMENTATION_DIR_PATH, ftp_filename = dict_ftp_filepath, output_path=dict_local_filepath)\n",
    "    zip_file = zipfile.ZipFile(dict_local_filepath)\n",
    "    filename = zip_file.extract(PNADC_RAW_METADATA_FILENAME, path=\"data\")\n",
    "    _format_dict(filename, output_filepath=PNADC_FORMATED_METADATA_FILEPATH)\n",
    "\n",
    "\n",
    "def get_pnadc(ano, trimestre):\n",
    "    trimestre = str(int(trimestre)).zfill(2)\n",
    "    \n",
    "    zip_filename = f\"PNADC_{trimestre}{ano}.zip\"\n",
    "    output_zip_filepath = f\"data/{zip_filename}\"\n",
    "    txt_filename = zip_filename.replace(\"zip\", \"txt\")\n",
    "    \n",
    "    logger.info(f\"Downloading data from PNADC from '{BASE_PATH}/{ano}/{zip_filename}' and saving in '{output_zip_filepath}'\")\n",
    "    _download_file(f\"{BASE_PATH}/{ano}\", zip_filename, output_zip_filepath)\n",
    "    \n",
    "    logger.info(f\"Extracting data from '{output_zip_filepath}' to 'data/{txt_filename}'\")\n",
    "    zip_file = zipfile.ZipFile(output_zip_filepath)\n",
    "    pnadc_filepath = zip_file.extract(txt_filename, path=\"data\")\n",
    "\n",
    "    logger.info(\"Importing PNADC metadata\")\n",
    "    metadata = pd.read_csv(PNADC_FORMATED_METADATA_FILEPATH)\n",
    "    \n",
    "    logger.info(f\"Reading PNADC dataframe from '{pnadc_filepath}'\")\n",
    "    pnadc = pd.read_fwf(pnadc_filepath, widths=metadata['tamanho'], header=None)\n",
    "    pnadc.columns = metadata['codigo_da_variavel']\n",
    "\n",
    "    pnadc_filename = f\"data/pnadc_{trimestre}{ano}.csv\"\n",
    "    logger.info(f\"Export PNADC dataframe to '{pnadc_filename}'\")\n",
    "    pnadc.to_csv(pnadc_filename, index=False)\n",
    "\n",
    "    logger.info(f\"PNADC microdata can be accessed in {pnadc_filename}\")\n",
    "\n",
    "    return pnadc_filename\n",
    "\n",
    "def _get_dict_filepath():\n",
    "    ftp = ftplib.FTP(HOST)\n",
    "    ftp.login()\n",
    "    ftp.cwd(DOCUMENTATION_DIR_PATH)\n",
    "    dir_list = []\n",
    "    ftp.dir(dir_list.append)\n",
    "    return [f.split()[-1] for f in dir_list if \"Dicionario_e_input\" in f][0]\n",
    "\n",
    "\n",
    "def _download_file(ftp_path, ftp_filename, output_path):\n",
    "    ftp = ftplib.FTP(HOST)\n",
    "    ftp.login()\n",
    "    ftp.cwd(ftp_path)\n",
    "    with open(output_path, 'wb') as file :\n",
    "        ftp.retrbinary('RETR %s' % ftp_filename, file.write)\n",
    "    ftp.close()\n",
    "\n",
    "\n",
    "def _format_dict(dict_filepath, output_filepath = PNADC_FORMATED_METADATA_FILEPATH):\n",
    "    logger.info(f\"Importing {dict_filepath}\")\n",
    "    df = pd.read_excel(dict_filepath).iloc[DICT_INIT_ROW:]\n",
    "\n",
    "    df.columns = [\n",
    "        \"posicao_incial\",\n",
    "        \"tamanho\",\n",
    "        \"codigo_da_variavel\",\n",
    "        \"quesito_n\", \n",
    "        \"quesito_descricao\",\n",
    "        \"categorias_tipo\",\n",
    "        \"categorias_descricao\",\n",
    "        \"periodo\"\n",
    "    ]\n",
    "\n",
    "    logger.info(f\"Filtering rows\")\n",
    "\n",
    "    def _is_number(x):\n",
    "        try:\n",
    "            number = int(x)\n",
    "            return True\n",
    "        except:\n",
    "            return False\n",
    "    \n",
    "    variaveis = df[~df[\"posicao_incial\"].isna()]\n",
    "    variaveis = variaveis[variaveis['posicao_incial'].apply(_is_number)]\n",
    "    \n",
    "    logger.info(f\"Exporting formatted dataset to {output_filepath}\")\n",
    "    variaveis.to_csv(output_filepath, index=False)\n"
   ]
  },
  {
   "cell_type": "code",
   "execution_count": 8,
   "id": "6cf715a8-ade6-4365-bd55-4a15f32dcbe3",
   "metadata": {},
   "outputs": [
    {
     "name": "stderr",
     "output_type": "stream",
     "text": [
      "\u001b[32m2023-09-16 01:32:31.809\u001b[0m | \u001b[1mINFO    \u001b[0m | \u001b[36m__main__\u001b[0m:\u001b[36m_format_dict\u001b[0m:\u001b[36m66\u001b[0m - \u001b[1mImporting data/dicionario_PNADC_microdados_trimestral.xls\u001b[0m\n",
      "\u001b[32m2023-09-16 01:32:31.840\u001b[0m | \u001b[1mINFO    \u001b[0m | \u001b[36m__main__\u001b[0m:\u001b[36m_format_dict\u001b[0m:\u001b[36m80\u001b[0m - \u001b[1mFiltering rows\u001b[0m\n",
      "\u001b[32m2023-09-16 01:32:31.841\u001b[0m | \u001b[1mINFO    \u001b[0m | \u001b[36m__main__\u001b[0m:\u001b[36m_format_dict\u001b[0m:\u001b[36m92\u001b[0m - \u001b[1mExporting formatted dataset to data/pnadc_metadata.csv\u001b[0m\n",
      "\u001b[32m2023-09-16 01:32:31.845\u001b[0m | \u001b[1mINFO    \u001b[0m | \u001b[36m__main__\u001b[0m:\u001b[36mget_pnadc\u001b[0m:\u001b[36m25\u001b[0m - \u001b[1mDownloading data from PNADC from 'Trabalho_e_Rendimento/Pesquisa_Nacional_por_Amostra_de_Domicilios_continua/Trimestral/Microdados/2023/PNADC_022023.zip' and saving in 'data/PNADC_022023.zip'\u001b[0m\n",
      "\u001b[32m2023-09-16 01:32:36.931\u001b[0m | \u001b[1mINFO    \u001b[0m | \u001b[36m__main__\u001b[0m:\u001b[36mget_pnadc\u001b[0m:\u001b[36m28\u001b[0m - \u001b[1mExtracting data from 'data/PNADC_022023.zip' to 'data/PNADC_022023.txt'\u001b[0m\n",
      "\u001b[32m2023-09-16 01:32:43.944\u001b[0m | \u001b[1mINFO    \u001b[0m | \u001b[36m__main__\u001b[0m:\u001b[36mget_pnadc\u001b[0m:\u001b[36m32\u001b[0m - \u001b[1mImporting PNADC metadata\u001b[0m\n",
      "\u001b[32m2023-09-16 01:32:43.956\u001b[0m | \u001b[1mINFO    \u001b[0m | \u001b[36m__main__\u001b[0m:\u001b[36mget_pnadc\u001b[0m:\u001b[36m35\u001b[0m - \u001b[1mReading PNADC dataframe from 'data/PNADC_022023.txt'\u001b[0m\n",
      "\u001b[32m2023-09-16 01:34:24.976\u001b[0m | \u001b[1mINFO    \u001b[0m | \u001b[36m__main__\u001b[0m:\u001b[36mget_pnadc\u001b[0m:\u001b[36m40\u001b[0m - \u001b[1mExport PNADC dataframe to 'data/pnadc_022023.csv'\u001b[0m\n",
      "\u001b[32m2023-09-16 01:35:29.919\u001b[0m | \u001b[1mINFO    \u001b[0m | \u001b[36m__main__\u001b[0m:\u001b[36mget_pnadc\u001b[0m:\u001b[36m43\u001b[0m - \u001b[1mPNADC microdata can be accessed in data/pnadc_022023.csv\u001b[0m\n"
     ]
    }
   ],
   "source": [
    "trimestre = 2\n",
    "ano = 2023\n",
    "\n",
    "get_pnadc_metadata()\n",
    "pnadc_filename = get_pnadc(ano, trimestre)"
   ]
  },
  {
   "cell_type": "code",
   "execution_count": 220,
   "id": "102d476f-e07e-4cfc-946c-bb1727cc3ffa",
   "metadata": {},
   "outputs": [
    {
     "name": "stdout",
     "output_type": "stream",
     "text": [
      "CPU times: user 1min 35s, sys: 2.91 s, total: 1min 38s\n",
      "Wall time: 1min 38s\n"
     ]
    }
   ],
   "source": [
    "%%time\n",
    "pnadc_filepath = \"data/PNADC_022023.txt\"\n",
    "pnadc = pd.read_fwf(pnadc_filepath, widths=metadata['tamanho'], header=None)\n",
    "pnadc.columns = metadata['codigo_da_variavel']"
   ]
  },
  {
   "cell_type": "code",
   "execution_count": 207,
   "id": "06b43bfa-8607-4245-938b-617ec54dc303",
   "metadata": {},
   "outputs": [
    {
     "data": {
      "text/plain": [
       "['PNADC_022023.txt']"
      ]
     },
     "execution_count": 207,
     "metadata": {},
     "output_type": "execute_result"
    }
   ],
   "source": [
    "zip_file.namelist()"
   ]
  },
  {
   "cell_type": "code",
   "execution_count": 138,
   "id": "b54626a0-a809-44d2-ab9d-015af7b1514b",
   "metadata": {},
   "outputs": [
    {
     "data": {
      "text/plain": [
       "'250 Directory successfully changed.'"
      ]
     },
     "execution_count": 138,
     "metadata": {},
     "output_type": "execute_result"
    }
   ],
   "source": [
    "ftp = ftplib.FTP(HOST)\n",
    "ftp.login()\n",
    "ftp.cwd(BASE_PATH)"
   ]
  },
  {
   "cell_type": "code",
   "execution_count": 139,
   "id": "902959ab-ea27-4672-ade2-5a72186bf6e8",
   "metadata": {},
   "outputs": [
    {
     "ename": "error_perm",
     "evalue": "550 Failed to change directory.",
     "output_type": "error",
     "traceback": [
      "\u001b[0;31m---------------------------------------------------------------------------\u001b[0m",
      "\u001b[0;31merror_perm\u001b[0m                                Traceback (most recent call last)",
      "Cell \u001b[0;32mIn[139], line 1\u001b[0m\n\u001b[0;32m----> 1\u001b[0m \u001b[43mftp\u001b[49m\u001b[38;5;241;43m.\u001b[39;49m\u001b[43mcwd\u001b[49m\u001b[43m(\u001b[49m\u001b[43mBASE_PATH\u001b[49m\u001b[43m)\u001b[49m\n",
      "File \u001b[0;32m/opt/conda/lib/python3.11/ftplib.py:625\u001b[0m, in \u001b[0;36mFTP.cwd\u001b[0;34m(self, dirname)\u001b[0m\n\u001b[1;32m    623\u001b[0m     dirname \u001b[38;5;241m=\u001b[39m \u001b[38;5;124m'\u001b[39m\u001b[38;5;124m.\u001b[39m\u001b[38;5;124m'\u001b[39m  \u001b[38;5;66;03m# does nothing, but could return error\u001b[39;00m\n\u001b[1;32m    624\u001b[0m cmd \u001b[38;5;241m=\u001b[39m \u001b[38;5;124m'\u001b[39m\u001b[38;5;124mCWD \u001b[39m\u001b[38;5;124m'\u001b[39m \u001b[38;5;241m+\u001b[39m dirname\n\u001b[0;32m--> 625\u001b[0m \u001b[38;5;28;01mreturn\u001b[39;00m \u001b[38;5;28;43mself\u001b[39;49m\u001b[38;5;241;43m.\u001b[39;49m\u001b[43mvoidcmd\u001b[49m\u001b[43m(\u001b[49m\u001b[43mcmd\u001b[49m\u001b[43m)\u001b[49m\n",
      "File \u001b[0;32m/opt/conda/lib/python3.11/ftplib.py:286\u001b[0m, in \u001b[0;36mFTP.voidcmd\u001b[0;34m(self, cmd)\u001b[0m\n\u001b[1;32m    284\u001b[0m \u001b[38;5;250m\u001b[39m\u001b[38;5;124;03m\"\"\"Send a command and expect a response beginning with '2'.\"\"\"\u001b[39;00m\n\u001b[1;32m    285\u001b[0m \u001b[38;5;28mself\u001b[39m\u001b[38;5;241m.\u001b[39mputcmd(cmd)\n\u001b[0;32m--> 286\u001b[0m \u001b[38;5;28;01mreturn\u001b[39;00m \u001b[38;5;28;43mself\u001b[39;49m\u001b[38;5;241;43m.\u001b[39;49m\u001b[43mvoidresp\u001b[49m\u001b[43m(\u001b[49m\u001b[43m)\u001b[49m\n",
      "File \u001b[0;32m/opt/conda/lib/python3.11/ftplib.py:259\u001b[0m, in \u001b[0;36mFTP.voidresp\u001b[0;34m(self)\u001b[0m\n\u001b[1;32m    257\u001b[0m \u001b[38;5;28;01mdef\u001b[39;00m \u001b[38;5;21mvoidresp\u001b[39m(\u001b[38;5;28mself\u001b[39m):\n\u001b[1;32m    258\u001b[0m \u001b[38;5;250m    \u001b[39m\u001b[38;5;124;03m\"\"\"Expect a response beginning with '2'.\"\"\"\u001b[39;00m\n\u001b[0;32m--> 259\u001b[0m     resp \u001b[38;5;241m=\u001b[39m \u001b[38;5;28;43mself\u001b[39;49m\u001b[38;5;241;43m.\u001b[39;49m\u001b[43mgetresp\u001b[49m\u001b[43m(\u001b[49m\u001b[43m)\u001b[49m\n\u001b[1;32m    260\u001b[0m     \u001b[38;5;28;01mif\u001b[39;00m resp[:\u001b[38;5;241m1\u001b[39m] \u001b[38;5;241m!=\u001b[39m \u001b[38;5;124m'\u001b[39m\u001b[38;5;124m2\u001b[39m\u001b[38;5;124m'\u001b[39m:\n\u001b[1;32m    261\u001b[0m         \u001b[38;5;28;01mraise\u001b[39;00m error_reply(resp)\n",
      "File \u001b[0;32m/opt/conda/lib/python3.11/ftplib.py:254\u001b[0m, in \u001b[0;36mFTP.getresp\u001b[0;34m(self)\u001b[0m\n\u001b[1;32m    252\u001b[0m     \u001b[38;5;28;01mraise\u001b[39;00m error_temp(resp)\n\u001b[1;32m    253\u001b[0m \u001b[38;5;28;01mif\u001b[39;00m c \u001b[38;5;241m==\u001b[39m \u001b[38;5;124m'\u001b[39m\u001b[38;5;124m5\u001b[39m\u001b[38;5;124m'\u001b[39m:\n\u001b[0;32m--> 254\u001b[0m     \u001b[38;5;28;01mraise\u001b[39;00m error_perm(resp)\n\u001b[1;32m    255\u001b[0m \u001b[38;5;28;01mraise\u001b[39;00m error_proto(resp)\n",
      "\u001b[0;31merror_perm\u001b[0m: 550 Failed to change directory."
     ]
    }
   ],
   "source": [
    "import zipfile\n",
    "\n",
    "# zip file handler  \n",
    "zip = zipfile.ZipFile('filename.zip')\n",
    "\n",
    "# list available files in the container\n",
    "print (zip.namelist())\n",
    "\n",
    "# extract a specific file from the zip container\n",
    "f = zip.open(\"file_inside_zip.txt\")\n",
    "\n",
    "# save the extraced file \n",
    "content = f.read()\n",
    "f = open('file_inside_zip.extracted.txt', 'wb')\n",
    "f.write(content)\n",
    "f.close()\n"
   ]
  },
  {
   "cell_type": "code",
   "execution_count": 136,
   "id": "e0671fc2-f87b-4772-bc92-92f0bfee0f72",
   "metadata": {},
   "outputs": [
    {
     "ename": "error_perm",
     "evalue": "550 Failed to change directory.",
     "output_type": "error",
     "traceback": [
      "\u001b[0;31m---------------------------------------------------------------------------\u001b[0m",
      "\u001b[0;31merror_perm\u001b[0m                                Traceback (most recent call last)",
      "Cell \u001b[0;32mIn[136], line 1\u001b[0m\n\u001b[0;32m----> 1\u001b[0m \u001b[43mftp\u001b[49m\u001b[38;5;241;43m.\u001b[39;49m\u001b[43mcwd\u001b[49m\u001b[43m(\u001b[49m\u001b[43mBASE_PATH\u001b[49m\u001b[43m)\u001b[49m\n",
      "File \u001b[0;32m/opt/conda/lib/python3.11/ftplib.py:625\u001b[0m, in \u001b[0;36mFTP.cwd\u001b[0;34m(self, dirname)\u001b[0m\n\u001b[1;32m    623\u001b[0m     dirname \u001b[38;5;241m=\u001b[39m \u001b[38;5;124m'\u001b[39m\u001b[38;5;124m.\u001b[39m\u001b[38;5;124m'\u001b[39m  \u001b[38;5;66;03m# does nothing, but could return error\u001b[39;00m\n\u001b[1;32m    624\u001b[0m cmd \u001b[38;5;241m=\u001b[39m \u001b[38;5;124m'\u001b[39m\u001b[38;5;124mCWD \u001b[39m\u001b[38;5;124m'\u001b[39m \u001b[38;5;241m+\u001b[39m dirname\n\u001b[0;32m--> 625\u001b[0m \u001b[38;5;28;01mreturn\u001b[39;00m \u001b[38;5;28;43mself\u001b[39;49m\u001b[38;5;241;43m.\u001b[39;49m\u001b[43mvoidcmd\u001b[49m\u001b[43m(\u001b[49m\u001b[43mcmd\u001b[49m\u001b[43m)\u001b[49m\n",
      "File \u001b[0;32m/opt/conda/lib/python3.11/ftplib.py:286\u001b[0m, in \u001b[0;36mFTP.voidcmd\u001b[0;34m(self, cmd)\u001b[0m\n\u001b[1;32m    284\u001b[0m \u001b[38;5;250m\u001b[39m\u001b[38;5;124;03m\"\"\"Send a command and expect a response beginning with '2'.\"\"\"\u001b[39;00m\n\u001b[1;32m    285\u001b[0m \u001b[38;5;28mself\u001b[39m\u001b[38;5;241m.\u001b[39mputcmd(cmd)\n\u001b[0;32m--> 286\u001b[0m \u001b[38;5;28;01mreturn\u001b[39;00m \u001b[38;5;28;43mself\u001b[39;49m\u001b[38;5;241;43m.\u001b[39;49m\u001b[43mvoidresp\u001b[49m\u001b[43m(\u001b[49m\u001b[43m)\u001b[49m\n",
      "File \u001b[0;32m/opt/conda/lib/python3.11/ftplib.py:259\u001b[0m, in \u001b[0;36mFTP.voidresp\u001b[0;34m(self)\u001b[0m\n\u001b[1;32m    257\u001b[0m \u001b[38;5;28;01mdef\u001b[39;00m \u001b[38;5;21mvoidresp\u001b[39m(\u001b[38;5;28mself\u001b[39m):\n\u001b[1;32m    258\u001b[0m \u001b[38;5;250m    \u001b[39m\u001b[38;5;124;03m\"\"\"Expect a response beginning with '2'.\"\"\"\u001b[39;00m\n\u001b[0;32m--> 259\u001b[0m     resp \u001b[38;5;241m=\u001b[39m \u001b[38;5;28;43mself\u001b[39;49m\u001b[38;5;241;43m.\u001b[39;49m\u001b[43mgetresp\u001b[49m\u001b[43m(\u001b[49m\u001b[43m)\u001b[49m\n\u001b[1;32m    260\u001b[0m     \u001b[38;5;28;01mif\u001b[39;00m resp[:\u001b[38;5;241m1\u001b[39m] \u001b[38;5;241m!=\u001b[39m \u001b[38;5;124m'\u001b[39m\u001b[38;5;124m2\u001b[39m\u001b[38;5;124m'\u001b[39m:\n\u001b[1;32m    261\u001b[0m         \u001b[38;5;28;01mraise\u001b[39;00m error_reply(resp)\n",
      "File \u001b[0;32m/opt/conda/lib/python3.11/ftplib.py:254\u001b[0m, in \u001b[0;36mFTP.getresp\u001b[0;34m(self)\u001b[0m\n\u001b[1;32m    252\u001b[0m     \u001b[38;5;28;01mraise\u001b[39;00m error_temp(resp)\n\u001b[1;32m    253\u001b[0m \u001b[38;5;28;01mif\u001b[39;00m c \u001b[38;5;241m==\u001b[39m \u001b[38;5;124m'\u001b[39m\u001b[38;5;124m5\u001b[39m\u001b[38;5;124m'\u001b[39m:\n\u001b[0;32m--> 254\u001b[0m     \u001b[38;5;28;01mraise\u001b[39;00m error_perm(resp)\n\u001b[1;32m    255\u001b[0m \u001b[38;5;28;01mraise\u001b[39;00m error_proto(resp)\n",
      "\u001b[0;31merror_perm\u001b[0m: 550 Failed to change directory."
     ]
    }
   ],
   "source": [
    "ftp.cwd(BASE_PATH)"
   ]
  },
  {
   "cell_type": "code",
   "execution_count": 132,
   "id": "390e5ad4-43ab-4c62-b118-1491ecf17d2c",
   "metadata": {},
   "outputs": [
    {
     "ename": "error_perm",
     "evalue": "550 Failed to change directory.",
     "output_type": "error",
     "traceback": [
      "\u001b[0;31m---------------------------------------------------------------------------\u001b[0m",
      "\u001b[0;31merror_perm\u001b[0m                                Traceback (most recent call last)",
      "Cell \u001b[0;32mIn[132], line 1\u001b[0m\n\u001b[0;32m----> 1\u001b[0m \u001b[43m_get_dict_filepath\u001b[49m\u001b[43m(\u001b[49m\u001b[43mftp\u001b[49m\u001b[43m)\u001b[49m\n",
      "Cell \u001b[0;32mIn[131], line 3\u001b[0m, in \u001b[0;36m_get_dict_filepath\u001b[0;34m(ftp)\u001b[0m\n\u001b[1;32m      1\u001b[0m \u001b[38;5;28;01mdef\u001b[39;00m \u001b[38;5;21m_get_dict_filepath\u001b[39m(ftp):\n\u001b[1;32m      2\u001b[0m     initial_pwd \u001b[38;5;241m=\u001b[39m ftp\u001b[38;5;241m.\u001b[39mpwd()\n\u001b[0;32m----> 3\u001b[0m     \u001b[43mftp\u001b[49m\u001b[38;5;241;43m.\u001b[39;49m\u001b[43mcwd\u001b[49m\u001b[43m(\u001b[49m\u001b[43mDOCUMENTATION_DIR_PATH\u001b[49m\u001b[43m)\u001b[49m\n\u001b[1;32m      4\u001b[0m     dir_list \u001b[38;5;241m=\u001b[39m []\n\u001b[1;32m      5\u001b[0m     ftp\u001b[38;5;241m.\u001b[39mdir(dir_list\u001b[38;5;241m.\u001b[39mappend) \n",
      "File \u001b[0;32m/opt/conda/lib/python3.11/ftplib.py:625\u001b[0m, in \u001b[0;36mFTP.cwd\u001b[0;34m(self, dirname)\u001b[0m\n\u001b[1;32m    623\u001b[0m     dirname \u001b[38;5;241m=\u001b[39m \u001b[38;5;124m'\u001b[39m\u001b[38;5;124m.\u001b[39m\u001b[38;5;124m'\u001b[39m  \u001b[38;5;66;03m# does nothing, but could return error\u001b[39;00m\n\u001b[1;32m    624\u001b[0m cmd \u001b[38;5;241m=\u001b[39m \u001b[38;5;124m'\u001b[39m\u001b[38;5;124mCWD \u001b[39m\u001b[38;5;124m'\u001b[39m \u001b[38;5;241m+\u001b[39m dirname\n\u001b[0;32m--> 625\u001b[0m \u001b[38;5;28;01mreturn\u001b[39;00m \u001b[38;5;28;43mself\u001b[39;49m\u001b[38;5;241;43m.\u001b[39;49m\u001b[43mvoidcmd\u001b[49m\u001b[43m(\u001b[49m\u001b[43mcmd\u001b[49m\u001b[43m)\u001b[49m\n",
      "File \u001b[0;32m/opt/conda/lib/python3.11/ftplib.py:286\u001b[0m, in \u001b[0;36mFTP.voidcmd\u001b[0;34m(self, cmd)\u001b[0m\n\u001b[1;32m    284\u001b[0m \u001b[38;5;250m\u001b[39m\u001b[38;5;124;03m\"\"\"Send a command and expect a response beginning with '2'.\"\"\"\u001b[39;00m\n\u001b[1;32m    285\u001b[0m \u001b[38;5;28mself\u001b[39m\u001b[38;5;241m.\u001b[39mputcmd(cmd)\n\u001b[0;32m--> 286\u001b[0m \u001b[38;5;28;01mreturn\u001b[39;00m \u001b[38;5;28;43mself\u001b[39;49m\u001b[38;5;241;43m.\u001b[39;49m\u001b[43mvoidresp\u001b[49m\u001b[43m(\u001b[49m\u001b[43m)\u001b[49m\n",
      "File \u001b[0;32m/opt/conda/lib/python3.11/ftplib.py:259\u001b[0m, in \u001b[0;36mFTP.voidresp\u001b[0;34m(self)\u001b[0m\n\u001b[1;32m    257\u001b[0m \u001b[38;5;28;01mdef\u001b[39;00m \u001b[38;5;21mvoidresp\u001b[39m(\u001b[38;5;28mself\u001b[39m):\n\u001b[1;32m    258\u001b[0m \u001b[38;5;250m    \u001b[39m\u001b[38;5;124;03m\"\"\"Expect a response beginning with '2'.\"\"\"\u001b[39;00m\n\u001b[0;32m--> 259\u001b[0m     resp \u001b[38;5;241m=\u001b[39m \u001b[38;5;28;43mself\u001b[39;49m\u001b[38;5;241;43m.\u001b[39;49m\u001b[43mgetresp\u001b[49m\u001b[43m(\u001b[49m\u001b[43m)\u001b[49m\n\u001b[1;32m    260\u001b[0m     \u001b[38;5;28;01mif\u001b[39;00m resp[:\u001b[38;5;241m1\u001b[39m] \u001b[38;5;241m!=\u001b[39m \u001b[38;5;124m'\u001b[39m\u001b[38;5;124m2\u001b[39m\u001b[38;5;124m'\u001b[39m:\n\u001b[1;32m    261\u001b[0m         \u001b[38;5;28;01mraise\u001b[39;00m error_reply(resp)\n",
      "File \u001b[0;32m/opt/conda/lib/python3.11/ftplib.py:254\u001b[0m, in \u001b[0;36mFTP.getresp\u001b[0;34m(self)\u001b[0m\n\u001b[1;32m    252\u001b[0m     \u001b[38;5;28;01mraise\u001b[39;00m error_temp(resp)\n\u001b[1;32m    253\u001b[0m \u001b[38;5;28;01mif\u001b[39;00m c \u001b[38;5;241m==\u001b[39m \u001b[38;5;124m'\u001b[39m\u001b[38;5;124m5\u001b[39m\u001b[38;5;124m'\u001b[39m:\n\u001b[0;32m--> 254\u001b[0m     \u001b[38;5;28;01mraise\u001b[39;00m error_perm(resp)\n\u001b[1;32m    255\u001b[0m \u001b[38;5;28;01mraise\u001b[39;00m error_proto(resp)\n",
      "\u001b[0;31merror_perm\u001b[0m: 550 Failed to change directory."
     ]
    }
   ],
   "source": [
    "_get_dict_filepath(ftp)"
   ]
  },
  {
   "cell_type": "code",
   "execution_count": 129,
   "id": "cf0dd686-ac96-41d7-ac60-b1355f9f3d6d",
   "metadata": {},
   "outputs": [
    {
     "data": {
      "text/plain": [
       "'/'"
      ]
     },
     "execution_count": 129,
     "metadata": {},
     "output_type": "execute_result"
    }
   ],
   "source": [
    "ftp.pwd()\n"
   ]
  },
  {
   "cell_type": "code",
   "execution_count": 133,
   "id": "6e6c7377-8037-4ac8-b5fd-1bc38ca16167",
   "metadata": {},
   "outputs": [
    {
     "data": {
      "text/plain": [
       "'Trabalho_e_Rendimento/Pesquisa_Nacional_por_Amostra_de_Domicilios_continua/Trimestral/Microdados/Documentacao'"
      ]
     },
     "execution_count": 133,
     "metadata": {},
     "output_type": "execute_result"
    }
   ],
   "source": [
    "DOCUMENTATION_DIR_PATH"
   ]
  },
  {
   "cell_type": "code",
   "execution_count": 122,
   "id": "75730387-1e0a-4b2b-a2e0-2788a43971ed",
   "metadata": {},
   "outputs": [
    {
     "data": {
      "text/plain": [
       "'/Trabalho_e_Rendimento/Pesquisa_Nacional_por_Amostra_de_Domicilios_continua/Trimestral/Microdados/Documentacao'"
      ]
     },
     "execution_count": 122,
     "metadata": {},
     "output_type": "execute_result"
    }
   ],
   "source": []
  },
  {
   "cell_type": "code",
   "execution_count": null,
   "id": "8e2400e4-6d4b-4d89-bef4-0646cc48d3b4",
   "metadata": {},
   "outputs": [],
   "source": []
  }
 ],
 "metadata": {
  "kernelspec": {
   "display_name": "Python 3 (ipykernel)",
   "language": "python",
   "name": "python3"
  },
  "language_info": {
   "codemirror_mode": {
    "name": "ipython",
    "version": 3
   },
   "file_extension": ".py",
   "mimetype": "text/x-python",
   "name": "python",
   "nbconvert_exporter": "python",
   "pygments_lexer": "ipython3",
   "version": "3.11.5"
  }
 },
 "nbformat": 4,
 "nbformat_minor": 5
}
