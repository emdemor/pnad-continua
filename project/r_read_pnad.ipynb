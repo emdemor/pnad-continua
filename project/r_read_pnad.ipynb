{
 "cells": [
  {
   "cell_type": "code",
   "execution_count": null,
   "id": "ea7c3dec-461a-4472-b4b5-c39f3cab616b",
   "metadata": {},
   "outputs": [],
   "source": [
    "# https://rpubs.com/BragaDouglas/335574"
   ]
  },
  {
   "cell_type": "code",
   "execution_count": 1,
   "id": "bf422e6d-a512-4aad-bb88-436484cee9ab",
   "metadata": {},
   "outputs": [
    {
     "name": "stderr",
     "output_type": "stream",
     "text": [
      "Loading required package: grid\n",
      "\n",
      "Loading required package: Matrix\n",
      "\n",
      "Loading required package: survival\n",
      "\n",
      "\n",
      "Attaching package: ‘survey’\n",
      "\n",
      "\n",
      "The following object is masked from ‘package:graphics’:\n",
      "\n",
      "    dotchart\n",
      "\n",
      "\n"
     ]
    }
   ],
   "source": [
    "library(PNADcIBGE) # CRAN v0.7.0\n",
    "library(survey) # CRAN v4.0\n",
    "library(convey) # CRAN v0.2.3\n",
    "library(magrittr) # CRAN v2.0.1"
   ]
  },
  {
   "cell_type": "code",
   "execution_count": 2,
   "id": "a82a4a90-dc2a-4bdd-8f1e-bd3a28470170",
   "metadata": {},
   "outputs": [],
   "source": [
    "dados_pnadc <- read_pnadc(\"data/PNADC_012019.txt\", \"data//input_PNADC_trimestral.txt\")\n",
    "dados_pnadc <- pnadc_labeller(dados_pnadc, \"data/dicionario_PNADC_microdados_trimestral.xls\")\n",
    "dados_pnadc <- pnadc_design(dados_pnadc)"
   ]
  },
  {
   "cell_type": "markdown",
   "id": "9fe61087-6b83-467f-bed4-06b4826059f9",
   "metadata": {},
   "source": [
    "## Primeiros cálculos"
   ]
  },
  {
   "cell_type": "code",
   "execution_count": 4,
   "id": "25862431-4eef-4712-9f89-3ade14f5bf29",
   "metadata": {},
   "outputs": [],
   "source": []
  },
  {
   "cell_type": "code",
   "execution_count": null,
   "id": "c8f577a1-5e8b-4cb0-a9c5-84dbfe4a9b27",
   "metadata": {},
   "outputs": [],
   "source": []
  },
  {
   "cell_type": "code",
   "execution_count": null,
   "id": "dc9eef2f-7fe2-4261-99d9-9905e028ad2d",
   "metadata": {},
   "outputs": [],
   "source": []
  },
  {
   "cell_type": "code",
   "execution_count": null,
   "id": "f69b5ef1-00d1-41f6-b785-87411652b543",
   "metadata": {},
   "outputs": [],
   "source": [
    "variaveis_selecionadas <- c(\"UF\", \"Capital\", \"V2007\")\n",
    "dadosPNADc <- get_pnadc(year = 2023, quarter = 2, vars = variaveis_selecionadas)"
   ]
  },
  {
   "cell_type": "code",
   "execution_count": null,
   "id": "e4cf0686-0641-4c26-b467-32ac8dedcb78",
   "metadata": {},
   "outputs": [],
   "source": []
  },
  {
   "cell_type": "code",
   "execution_count": null,
   "id": "0000576e-cc53-489b-aa3e-194bee20051d",
   "metadata": {},
   "outputs": [],
   "source": []
  },
  {
   "cell_type": "code",
   "execution_count": null,
   "id": "5c703992-c421-41e4-b5cd-bd5e45d7aa8b",
   "metadata": {},
   "outputs": [],
   "source": []
  },
  {
   "cell_type": "code",
   "execution_count": null,
   "id": "f61ac6d2-1b68-4540-9f28-139395cbb1c0",
   "metadata": {},
   "outputs": [],
   "source": []
  },
  {
   "cell_type": "code",
   "execution_count": 2,
   "id": "8227a497-e6b3-42fd-82e8-ecf60626932e",
   "metadata": {},
   "outputs": [
    {
     "name": "stderr",
     "output_type": "stream",
     "text": [
      "Variables VD3001 not present in microdata.\n",
      "\n",
      "\n"
     ]
    }
   ],
   "source": [
    "variaveis_selecionadas <- c(\"UF\", \"Capital\", \"V2007\", \"V2009\", \"V2010\", \"V3007\", \"VD3001\", \"VD4001\", \"VD4002\", \"VD4020\", \"VD4035\")\n",
    "dadosPNADc <- get_pnadc(year = 2023, quarter = 2, vars = variaveis_selecionadas)"
   ]
  },
  {
   "cell_type": "code",
   "execution_count": 5,
   "id": "f702f06b-74a7-43b4-af56-4ab24fd668e6",
   "metadata": {},
   "outputs": [
    {
     "data": {
      "text/html": [
       "<table class=\"dataframe\">\n",
       "<caption>A svyby: 27 × 3</caption>\n",
       "<thead>\n",
       "\t<tr><th></th><th scope=col>UF</th><th scope=col>VD4020</th><th scope=col>se</th></tr>\n",
       "\t<tr><th></th><th scope=col>&lt;fct&gt;</th><th scope=col>&lt;dbl&gt;</th><th scope=col>&lt;dbl&gt;</th></tr>\n",
       "</thead>\n",
       "<tbody>\n",
       "\t<tr><th scope=row>Rondônia</th><td>Rondônia           </td><td>2560.542</td><td> 87.80832</td></tr>\n",
       "\t<tr><th scope=row>Acre</th><td>Acre               </td><td>2414.153</td><td> 96.05932</td></tr>\n",
       "\t<tr><th scope=row>Amazonas</th><td>Amazonas           </td><td>2175.817</td><td>102.61923</td></tr>\n",
       "\t<tr><th scope=row>Roraima</th><td>Roraima            </td><td>2667.785</td><td>161.93697</td></tr>\n",
       "\t<tr><th scope=row>Pará</th><td>Pará               </td><td>2153.879</td><td>108.77673</td></tr>\n",
       "\t<tr><th scope=row>Amapá</th><td>Amapá              </td><td>2515.540</td><td>140.79156</td></tr>\n",
       "\t<tr><th scope=row>Tocantins</th><td>Tocantins          </td><td>2557.253</td><td> 90.47443</td></tr>\n",
       "\t<tr><th scope=row>Maranhão</th><td>Maranhão           </td><td>1740.679</td><td> 56.49753</td></tr>\n",
       "\t<tr><th scope=row>Piauí</th><td>Piauí              </td><td>2272.787</td><td>242.14939</td></tr>\n",
       "\t<tr><th scope=row>Ceará</th><td>Ceará              </td><td>1961.570</td><td> 86.72365</td></tr>\n",
       "\t<tr><th scope=row>Rio Grande do Norte</th><td>Rio Grande do Norte</td><td>2119.606</td><td> 97.63178</td></tr>\n",
       "\t<tr><th scope=row>Paraíba</th><td>Paraíba            </td><td>2086.355</td><td>125.88560</td></tr>\n",
       "\t<tr><th scope=row>Pernambuco</th><td>Pernambuco         </td><td>2099.376</td><td> 86.23499</td></tr>\n",
       "\t<tr><th scope=row>Alagoas</th><td>Alagoas            </td><td>1965.882</td><td> 75.07558</td></tr>\n",
       "\t<tr><th scope=row>Sergipe</th><td>Sergipe            </td><td>2112.387</td><td>152.45471</td></tr>\n",
       "\t<tr><th scope=row>Bahia</th><td>Bahia              </td><td>1809.773</td><td> 62.07016</td></tr>\n",
       "\t<tr><th scope=row>Minas Gerais</th><td>Minas Gerais       </td><td>2677.077</td><td> 85.56817</td></tr>\n",
       "\t<tr><th scope=row>Espírito Santo</th><td>Espírito Santo     </td><td>2861.154</td><td>102.96574</td></tr>\n",
       "\t<tr><th scope=row>Rio de Janeiro</th><td>Rio de Janeiro     </td><td>3549.420</td><td> 90.25811</td></tr>\n",
       "\t<tr><th scope=row>São Paulo</th><td>São Paulo          </td><td>3592.096</td><td>111.46894</td></tr>\n",
       "\t<tr><th scope=row>Paraná</th><td>Paraná             </td><td>3131.235</td><td> 75.66617</td></tr>\n",
       "\t<tr><th scope=row>Santa Catarina</th><td>Santa Catarina     </td><td>3247.297</td><td> 52.77543</td></tr>\n",
       "\t<tr><th scope=row>Rio Grande do Sul</th><td>Rio Grande do Sul  </td><td>3244.708</td><td> 64.63089</td></tr>\n",
       "\t<tr><th scope=row>Mato Grosso do Sul</th><td>Mato Grosso do Sul </td><td>3196.982</td><td>128.45182</td></tr>\n",
       "\t<tr><th scope=row>Mato Grosso</th><td>Mato Grosso        </td><td>3240.367</td><td>107.31803</td></tr>\n",
       "\t<tr><th scope=row>Goiás</th><td>Goiás              </td><td>2960.453</td><td> 88.84162</td></tr>\n",
       "\t<tr><th scope=row>Distrito Federal</th><td>Distrito Federal   </td><td>4842.015</td><td>236.07614</td></tr>\n",
       "</tbody>\n",
       "</table>\n"
      ],
      "text/latex": [
       "A svyby: 27 × 3\n",
       "\\begin{tabular}{r|lll}\n",
       "  & UF & VD4020 & se\\\\\n",
       "  & <fct> & <dbl> & <dbl>\\\\\n",
       "\\hline\n",
       "\tRondônia & Rondônia            & 2560.542 &  87.80832\\\\\n",
       "\tAcre & Acre                & 2414.153 &  96.05932\\\\\n",
       "\tAmazonas & Amazonas            & 2175.817 & 102.61923\\\\\n",
       "\tRoraima & Roraima             & 2667.785 & 161.93697\\\\\n",
       "\tPará & Pará                & 2153.879 & 108.77673\\\\\n",
       "\tAmapá & Amapá               & 2515.540 & 140.79156\\\\\n",
       "\tTocantins & Tocantins           & 2557.253 &  90.47443\\\\\n",
       "\tMaranhão & Maranhão            & 1740.679 &  56.49753\\\\\n",
       "\tPiauí & Piauí               & 2272.787 & 242.14939\\\\\n",
       "\tCeará & Ceará               & 1961.570 &  86.72365\\\\\n",
       "\tRio Grande do Norte & Rio Grande do Norte & 2119.606 &  97.63178\\\\\n",
       "\tParaíba & Paraíba             & 2086.355 & 125.88560\\\\\n",
       "\tPernambuco & Pernambuco          & 2099.376 &  86.23499\\\\\n",
       "\tAlagoas & Alagoas             & 1965.882 &  75.07558\\\\\n",
       "\tSergipe & Sergipe             & 2112.387 & 152.45471\\\\\n",
       "\tBahia & Bahia               & 1809.773 &  62.07016\\\\\n",
       "\tMinas Gerais & Minas Gerais        & 2677.077 &  85.56817\\\\\n",
       "\tEspírito Santo & Espírito Santo      & 2861.154 & 102.96574\\\\\n",
       "\tRio de Janeiro & Rio de Janeiro      & 3549.420 &  90.25811\\\\\n",
       "\tSão Paulo & São Paulo           & 3592.096 & 111.46894\\\\\n",
       "\tParaná & Paraná              & 3131.235 &  75.66617\\\\\n",
       "\tSanta Catarina & Santa Catarina      & 3247.297 &  52.77543\\\\\n",
       "\tRio Grande do Sul & Rio Grande do Sul   & 3244.708 &  64.63089\\\\\n",
       "\tMato Grosso do Sul & Mato Grosso do Sul  & 3196.982 & 128.45182\\\\\n",
       "\tMato Grosso & Mato Grosso         & 3240.367 & 107.31803\\\\\n",
       "\tGoiás & Goiás               & 2960.453 &  88.84162\\\\\n",
       "\tDistrito Federal & Distrito Federal    & 4842.015 & 236.07614\\\\\n",
       "\\end{tabular}\n"
      ],
      "text/markdown": [
       "\n",
       "A svyby: 27 × 3\n",
       "\n",
       "| <!--/--> | UF &lt;fct&gt; | VD4020 &lt;dbl&gt; | se &lt;dbl&gt; |\n",
       "|---|---|---|---|\n",
       "| Rondônia | Rondônia            | 2560.542 |  87.80832 |\n",
       "| Acre | Acre                | 2414.153 |  96.05932 |\n",
       "| Amazonas | Amazonas            | 2175.817 | 102.61923 |\n",
       "| Roraima | Roraima             | 2667.785 | 161.93697 |\n",
       "| Pará | Pará                | 2153.879 | 108.77673 |\n",
       "| Amapá | Amapá               | 2515.540 | 140.79156 |\n",
       "| Tocantins | Tocantins           | 2557.253 |  90.47443 |\n",
       "| Maranhão | Maranhão            | 1740.679 |  56.49753 |\n",
       "| Piauí | Piauí               | 2272.787 | 242.14939 |\n",
       "| Ceará | Ceará               | 1961.570 |  86.72365 |\n",
       "| Rio Grande do Norte | Rio Grande do Norte | 2119.606 |  97.63178 |\n",
       "| Paraíba | Paraíba             | 2086.355 | 125.88560 |\n",
       "| Pernambuco | Pernambuco          | 2099.376 |  86.23499 |\n",
       "| Alagoas | Alagoas             | 1965.882 |  75.07558 |\n",
       "| Sergipe | Sergipe             | 2112.387 | 152.45471 |\n",
       "| Bahia | Bahia               | 1809.773 |  62.07016 |\n",
       "| Minas Gerais | Minas Gerais        | 2677.077 |  85.56817 |\n",
       "| Espírito Santo | Espírito Santo      | 2861.154 | 102.96574 |\n",
       "| Rio de Janeiro | Rio de Janeiro      | 3549.420 |  90.25811 |\n",
       "| São Paulo | São Paulo           | 3592.096 | 111.46894 |\n",
       "| Paraná | Paraná              | 3131.235 |  75.66617 |\n",
       "| Santa Catarina | Santa Catarina      | 3247.297 |  52.77543 |\n",
       "| Rio Grande do Sul | Rio Grande do Sul   | 3244.708 |  64.63089 |\n",
       "| Mato Grosso do Sul | Mato Grosso do Sul  | 3196.982 | 128.45182 |\n",
       "| Mato Grosso | Mato Grosso         | 3240.367 | 107.31803 |\n",
       "| Goiás | Goiás               | 2960.453 |  88.84162 |\n",
       "| Distrito Federal | Distrito Federal    | 4842.015 | 236.07614 |\n",
       "\n"
      ],
      "text/plain": [
       "                    UF                  VD4020   se       \n",
       "Rondônia            Rondônia            2560.542  87.80832\n",
       "Acre                Acre                2414.153  96.05932\n",
       "Amazonas            Amazonas            2175.817 102.61923\n",
       "Roraima             Roraima             2667.785 161.93697\n",
       "Pará                Pará                2153.879 108.77673\n",
       "Amapá               Amapá               2515.540 140.79156\n",
       "Tocantins           Tocantins           2557.253  90.47443\n",
       "Maranhão            Maranhão            1740.679  56.49753\n",
       "Piauí               Piauí               2272.787 242.14939\n",
       "Ceará               Ceará               1961.570  86.72365\n",
       "Rio Grande do Norte Rio Grande do Norte 2119.606  97.63178\n",
       "Paraíba             Paraíba             2086.355 125.88560\n",
       "Pernambuco          Pernambuco          2099.376  86.23499\n",
       "Alagoas             Alagoas             1965.882  75.07558\n",
       "Sergipe             Sergipe             2112.387 152.45471\n",
       "Bahia               Bahia               1809.773  62.07016\n",
       "Minas Gerais        Minas Gerais        2677.077  85.56817\n",
       "Espírito Santo      Espírito Santo      2861.154 102.96574\n",
       "Rio de Janeiro      Rio de Janeiro      3549.420  90.25811\n",
       "São Paulo           São Paulo           3592.096 111.46894\n",
       "Paraná              Paraná              3131.235  75.66617\n",
       "Santa Catarina      Santa Catarina      3247.297  52.77543\n",
       "Rio Grande do Sul   Rio Grande do Sul   3244.708  64.63089\n",
       "Mato Grosso do Sul  Mato Grosso do Sul  3196.982 128.45182\n",
       "Mato Grosso         Mato Grosso         3240.367 107.31803\n",
       "Goiás               Goiás               2960.453  88.84162\n",
       "Distrito Federal    Distrito Federal    4842.015 236.07614"
      ]
     },
     "metadata": {},
     "output_type": "display_data"
    }
   ],
   "source": [
    "mediaRendaUF <- svyby(~VD4020, ~UF, dadosPNADc, svymean, na.rm = T)\n",
    "mediaRendaUF"
   ]
  },
  {
   "cell_type": "code",
   "execution_count": 3,
   "id": "40669975-d350-446e-985a-52ab65f9c7e3",
   "metadata": {},
   "outputs": [
    {
     "data": {
      "text/html": [
       "<table class=\"dataframe\">\n",
       "<caption>A svyby: 27 × 3</caption>\n",
       "<thead>\n",
       "\t<tr><th></th><th scope=col>Capital</th><th scope=col>VD4020</th><th scope=col>se</th></tr>\n",
       "\t<tr><th></th><th scope=col>&lt;fct&gt;</th><th scope=col>&lt;dbl&gt;</th><th scope=col>&lt;dbl&gt;</th></tr>\n",
       "</thead>\n",
       "<tbody>\n",
       "\t<tr><th scope=row>Município de Porto Velho (RO)</th><td>Município de Porto Velho (RO)   </td><td>2528.221</td><td>159.1404</td></tr>\n",
       "\t<tr><th scope=row>Município de Rio Branco (AC)</th><td>Município de Rio Branco (AC)    </td><td>2759.364</td><td>153.4908</td></tr>\n",
       "\t<tr><th scope=row>Município de Manaus (AM)</th><td>Município de Manaus (AM)        </td><td>2587.943</td><td>161.1201</td></tr>\n",
       "\t<tr><th scope=row>Município de Boa Vista (RR)</th><td>Município de Boa Vista (RR)     </td><td>2913.590</td><td>211.4758</td></tr>\n",
       "\t<tr><th scope=row>Município de Belém (PA)</th><td>Município de Belém (PA)         </td><td>3305.607</td><td>331.7156</td></tr>\n",
       "\t<tr><th scope=row>Município de Macapá (AP)</th><td>Município de Macapá (AP)        </td><td>2842.820</td><td>197.9192</td></tr>\n",
       "\t<tr><th scope=row>Município de Palmas (TO)</th><td>Município de Palmas (TO)        </td><td>3722.471</td><td>286.4142</td></tr>\n",
       "\t<tr><th scope=row>Município de São Luís (MA)</th><td>Município de São Luís (MA)      </td><td>2354.804</td><td>213.0215</td></tr>\n",
       "\t<tr><th scope=row>Município de Teresina (PI)</th><td>Município de Teresina (PI)      </td><td>3277.237</td><td>622.0385</td></tr>\n",
       "\t<tr><th scope=row>Município de Fortaleza (CE)</th><td>Município de Fortaleza (CE)     </td><td>2775.405</td><td>223.2537</td></tr>\n",
       "\t<tr><th scope=row>Município de Natal (RN)</th><td>Município de Natal (RN)         </td><td>2933.015</td><td>257.4933</td></tr>\n",
       "\t<tr><th scope=row>Município de João Pessoa (PB)</th><td>Município de João Pessoa (PB)   </td><td>3441.413</td><td>437.1920</td></tr>\n",
       "\t<tr><th scope=row>Município de Recife (PE)</th><td>Município de Recife (PE)        </td><td>2997.647</td><td>259.0947</td></tr>\n",
       "\t<tr><th scope=row>Município de Maceió (AL)</th><td>Município de Maceió (AL)        </td><td>2461.894</td><td>176.8845</td></tr>\n",
       "\t<tr><th scope=row>Município de Aracaju (SE)</th><td>Município de Aracaju (SE)       </td><td>3496.283</td><td>419.5483</td></tr>\n",
       "\t<tr><th scope=row>Município de Salvador (BA)</th><td>Município de Salvador (BA)      </td><td>2518.136</td><td>200.2300</td></tr>\n",
       "\t<tr><th scope=row>Município de Belo Horizonte (MG)</th><td>Município de Belo Horizonte (MG)</td><td>4297.153</td><td>331.1235</td></tr>\n",
       "\t<tr><th scope=row>Município de Vitória (ES)</th><td>Município de Vitória (ES)       </td><td>5018.681</td><td>401.2087</td></tr>\n",
       "\t<tr><th scope=row>Município de Rio de Janeiro (RJ)</th><td>Município de Rio de Janeiro (RJ)</td><td>4911.901</td><td>195.8990</td></tr>\n",
       "\t<tr><th scope=row>Município de São Paulo (SP)</th><td>Município de São Paulo (SP)     </td><td>5041.766</td><td>281.2836</td></tr>\n",
       "\t<tr><th scope=row>Município de Curitiba (PR)</th><td>Município de Curitiba (PR)      </td><td>4536.505</td><td>255.3367</td></tr>\n",
       "\t<tr><th scope=row>Município de Florianópolis (SC)</th><td>Município de Florianópolis (SC) </td><td>5271.083</td><td>387.4106</td></tr>\n",
       "\t<tr><th scope=row>Município de Porto Alegre (RS)</th><td>Município de Porto Alegre (RS)  </td><td>4730.570</td><td>220.0101</td></tr>\n",
       "\t<tr><th scope=row>Município de Campo Grande (MS)</th><td>Município de Campo Grande (MS)  </td><td>3832.224</td><td>322.2631</td></tr>\n",
       "\t<tr><th scope=row>Município de Cuiabá (MT)</th><td>Município de Cuiabá (MT)        </td><td>3741.051</td><td>371.4810</td></tr>\n",
       "\t<tr><th scope=row>Município de Goiânia (GO)</th><td>Município de Goiânia (GO)       </td><td>4200.155</td><td>294.9434</td></tr>\n",
       "\t<tr><th scope=row>Município de Brasília (DF)</th><td>Município de Brasília (DF)      </td><td>4842.015</td><td>236.0761</td></tr>\n",
       "</tbody>\n",
       "</table>\n"
      ],
      "text/latex": [
       "A svyby: 27 × 3\n",
       "\\begin{tabular}{r|lll}\n",
       "  & Capital & VD4020 & se\\\\\n",
       "  & <fct> & <dbl> & <dbl>\\\\\n",
       "\\hline\n",
       "\tMunicípio de Porto Velho (RO) & Município de Porto Velho (RO)    & 2528.221 & 159.1404\\\\\n",
       "\tMunicípio de Rio Branco (AC) & Município de Rio Branco (AC)     & 2759.364 & 153.4908\\\\\n",
       "\tMunicípio de Manaus (AM) & Município de Manaus (AM)         & 2587.943 & 161.1201\\\\\n",
       "\tMunicípio de Boa Vista (RR) & Município de Boa Vista (RR)      & 2913.590 & 211.4758\\\\\n",
       "\tMunicípio de Belém (PA) & Município de Belém (PA)          & 3305.607 & 331.7156\\\\\n",
       "\tMunicípio de Macapá (AP) & Município de Macapá (AP)         & 2842.820 & 197.9192\\\\\n",
       "\tMunicípio de Palmas (TO) & Município de Palmas (TO)         & 3722.471 & 286.4142\\\\\n",
       "\tMunicípio de São Luís (MA) & Município de São Luís (MA)       & 2354.804 & 213.0215\\\\\n",
       "\tMunicípio de Teresina (PI) & Município de Teresina (PI)       & 3277.237 & 622.0385\\\\\n",
       "\tMunicípio de Fortaleza (CE) & Município de Fortaleza (CE)      & 2775.405 & 223.2537\\\\\n",
       "\tMunicípio de Natal (RN) & Município de Natal (RN)          & 2933.015 & 257.4933\\\\\n",
       "\tMunicípio de João Pessoa (PB) & Município de João Pessoa (PB)    & 3441.413 & 437.1920\\\\\n",
       "\tMunicípio de Recife (PE) & Município de Recife (PE)         & 2997.647 & 259.0947\\\\\n",
       "\tMunicípio de Maceió (AL) & Município de Maceió (AL)         & 2461.894 & 176.8845\\\\\n",
       "\tMunicípio de Aracaju (SE) & Município de Aracaju (SE)        & 3496.283 & 419.5483\\\\\n",
       "\tMunicípio de Salvador (BA) & Município de Salvador (BA)       & 2518.136 & 200.2300\\\\\n",
       "\tMunicípio de Belo Horizonte (MG) & Município de Belo Horizonte (MG) & 4297.153 & 331.1235\\\\\n",
       "\tMunicípio de Vitória (ES) & Município de Vitória (ES)        & 5018.681 & 401.2087\\\\\n",
       "\tMunicípio de Rio de Janeiro (RJ) & Município de Rio de Janeiro (RJ) & 4911.901 & 195.8990\\\\\n",
       "\tMunicípio de São Paulo (SP) & Município de São Paulo (SP)      & 5041.766 & 281.2836\\\\\n",
       "\tMunicípio de Curitiba (PR) & Município de Curitiba (PR)       & 4536.505 & 255.3367\\\\\n",
       "\tMunicípio de Florianópolis (SC) & Município de Florianópolis (SC)  & 5271.083 & 387.4106\\\\\n",
       "\tMunicípio de Porto Alegre (RS) & Município de Porto Alegre (RS)   & 4730.570 & 220.0101\\\\\n",
       "\tMunicípio de Campo Grande (MS) & Município de Campo Grande (MS)   & 3832.224 & 322.2631\\\\\n",
       "\tMunicípio de Cuiabá (MT) & Município de Cuiabá (MT)         & 3741.051 & 371.4810\\\\\n",
       "\tMunicípio de Goiânia (GO) & Município de Goiânia (GO)        & 4200.155 & 294.9434\\\\\n",
       "\tMunicípio de Brasília (DF) & Município de Brasília (DF)       & 4842.015 & 236.0761\\\\\n",
       "\\end{tabular}\n"
      ],
      "text/markdown": [
       "\n",
       "A svyby: 27 × 3\n",
       "\n",
       "| <!--/--> | Capital &lt;fct&gt; | VD4020 &lt;dbl&gt; | se &lt;dbl&gt; |\n",
       "|---|---|---|---|\n",
       "| Município de Porto Velho (RO) | Município de Porto Velho (RO)    | 2528.221 | 159.1404 |\n",
       "| Município de Rio Branco (AC) | Município de Rio Branco (AC)     | 2759.364 | 153.4908 |\n",
       "| Município de Manaus (AM) | Município de Manaus (AM)         | 2587.943 | 161.1201 |\n",
       "| Município de Boa Vista (RR) | Município de Boa Vista (RR)      | 2913.590 | 211.4758 |\n",
       "| Município de Belém (PA) | Município de Belém (PA)          | 3305.607 | 331.7156 |\n",
       "| Município de Macapá (AP) | Município de Macapá (AP)         | 2842.820 | 197.9192 |\n",
       "| Município de Palmas (TO) | Município de Palmas (TO)         | 3722.471 | 286.4142 |\n",
       "| Município de São Luís (MA) | Município de São Luís (MA)       | 2354.804 | 213.0215 |\n",
       "| Município de Teresina (PI) | Município de Teresina (PI)       | 3277.237 | 622.0385 |\n",
       "| Município de Fortaleza (CE) | Município de Fortaleza (CE)      | 2775.405 | 223.2537 |\n",
       "| Município de Natal (RN) | Município de Natal (RN)          | 2933.015 | 257.4933 |\n",
       "| Município de João Pessoa (PB) | Município de João Pessoa (PB)    | 3441.413 | 437.1920 |\n",
       "| Município de Recife (PE) | Município de Recife (PE)         | 2997.647 | 259.0947 |\n",
       "| Município de Maceió (AL) | Município de Maceió (AL)         | 2461.894 | 176.8845 |\n",
       "| Município de Aracaju (SE) | Município de Aracaju (SE)        | 3496.283 | 419.5483 |\n",
       "| Município de Salvador (BA) | Município de Salvador (BA)       | 2518.136 | 200.2300 |\n",
       "| Município de Belo Horizonte (MG) | Município de Belo Horizonte (MG) | 4297.153 | 331.1235 |\n",
       "| Município de Vitória (ES) | Município de Vitória (ES)        | 5018.681 | 401.2087 |\n",
       "| Município de Rio de Janeiro (RJ) | Município de Rio de Janeiro (RJ) | 4911.901 | 195.8990 |\n",
       "| Município de São Paulo (SP) | Município de São Paulo (SP)      | 5041.766 | 281.2836 |\n",
       "| Município de Curitiba (PR) | Município de Curitiba (PR)       | 4536.505 | 255.3367 |\n",
       "| Município de Florianópolis (SC) | Município de Florianópolis (SC)  | 5271.083 | 387.4106 |\n",
       "| Município de Porto Alegre (RS) | Município de Porto Alegre (RS)   | 4730.570 | 220.0101 |\n",
       "| Município de Campo Grande (MS) | Município de Campo Grande (MS)   | 3832.224 | 322.2631 |\n",
       "| Município de Cuiabá (MT) | Município de Cuiabá (MT)         | 3741.051 | 371.4810 |\n",
       "| Município de Goiânia (GO) | Município de Goiânia (GO)        | 4200.155 | 294.9434 |\n",
       "| Município de Brasília (DF) | Município de Brasília (DF)       | 4842.015 | 236.0761 |\n",
       "\n"
      ],
      "text/plain": [
       "                                 Capital                          VD4020  \n",
       "Município de Porto Velho (RO)    Município de Porto Velho (RO)    2528.221\n",
       "Município de Rio Branco (AC)     Município de Rio Branco (AC)     2759.364\n",
       "Município de Manaus (AM)         Município de Manaus (AM)         2587.943\n",
       "Município de Boa Vista (RR)      Município de Boa Vista (RR)      2913.590\n",
       "Município de Belém (PA)          Município de Belém (PA)          3305.607\n",
       "Município de Macapá (AP)         Município de Macapá (AP)         2842.820\n",
       "Município de Palmas (TO)         Município de Palmas (TO)         3722.471\n",
       "Município de São Luís (MA)       Município de São Luís (MA)       2354.804\n",
       "Município de Teresina (PI)       Município de Teresina (PI)       3277.237\n",
       "Município de Fortaleza (CE)      Município de Fortaleza (CE)      2775.405\n",
       "Município de Natal (RN)          Município de Natal (RN)          2933.015\n",
       "Município de João Pessoa (PB)    Município de João Pessoa (PB)    3441.413\n",
       "Município de Recife (PE)         Município de Recife (PE)         2997.647\n",
       "Município de Maceió (AL)         Município de Maceió (AL)         2461.894\n",
       "Município de Aracaju (SE)        Município de Aracaju (SE)        3496.283\n",
       "Município de Salvador (BA)       Município de Salvador (BA)       2518.136\n",
       "Município de Belo Horizonte (MG) Município de Belo Horizonte (MG) 4297.153\n",
       "Município de Vitória (ES)        Município de Vitória (ES)        5018.681\n",
       "Município de Rio de Janeiro (RJ) Município de Rio de Janeiro (RJ) 4911.901\n",
       "Município de São Paulo (SP)      Município de São Paulo (SP)      5041.766\n",
       "Município de Curitiba (PR)       Município de Curitiba (PR)       4536.505\n",
       "Município de Florianópolis (SC)  Município de Florianópolis (SC)  5271.083\n",
       "Município de Porto Alegre (RS)   Município de Porto Alegre (RS)   4730.570\n",
       "Município de Campo Grande (MS)   Município de Campo Grande (MS)   3832.224\n",
       "Município de Cuiabá (MT)         Município de Cuiabá (MT)         3741.051\n",
       "Município de Goiânia (GO)        Município de Goiânia (GO)        4200.155\n",
       "Município de Brasília (DF)       Município de Brasília (DF)       4842.015\n",
       "                                 se      \n",
       "Município de Porto Velho (RO)    159.1404\n",
       "Município de Rio Branco (AC)     153.4908\n",
       "Município de Manaus (AM)         161.1201\n",
       "Município de Boa Vista (RR)      211.4758\n",
       "Município de Belém (PA)          331.7156\n",
       "Município de Macapá (AP)         197.9192\n",
       "Município de Palmas (TO)         286.4142\n",
       "Município de São Luís (MA)       213.0215\n",
       "Município de Teresina (PI)       622.0385\n",
       "Município de Fortaleza (CE)      223.2537\n",
       "Município de Natal (RN)          257.4933\n",
       "Município de João Pessoa (PB)    437.1920\n",
       "Município de Recife (PE)         259.0947\n",
       "Município de Maceió (AL)         176.8845\n",
       "Município de Aracaju (SE)        419.5483\n",
       "Município de Salvador (BA)       200.2300\n",
       "Município de Belo Horizonte (MG) 331.1235\n",
       "Município de Vitória (ES)        401.2087\n",
       "Município de Rio de Janeiro (RJ) 195.8990\n",
       "Município de São Paulo (SP)      281.2836\n",
       "Município de Curitiba (PR)       255.3367\n",
       "Município de Florianópolis (SC)  387.4106\n",
       "Município de Porto Alegre (RS)   220.0101\n",
       "Município de Campo Grande (MS)   322.2631\n",
       "Município de Cuiabá (MT)         371.4810\n",
       "Município de Goiânia (GO)        294.9434\n",
       "Município de Brasília (DF)       236.0761"
      ]
     },
     "metadata": {},
     "output_type": "display_data"
    }
   ],
   "source": [
    "mediaRendaCapital <- svyby(~VD4020, ~Capital, dadosPNADc, svymean, na.rm = T)\n",
    "mediaRendaCapital"
   ]
  },
  {
   "cell_type": "code",
   "execution_count": null,
   "id": "5bedd3bb-8d3b-41b2-a91e-73726eacea3c",
   "metadata": {},
   "outputs": [],
   "source": []
  },
  {
   "cell_type": "code",
   "execution_count": null,
   "id": "c94eba91-7201-4706-a3c1-877faf04d322",
   "metadata": {},
   "outputs": [],
   "source": []
  },
  {
   "cell_type": "code",
   "execution_count": 2,
   "id": "c39c4cf6-fef9-4301-add8-b9ce69f6aaca",
   "metadata": {},
   "outputs": [
    {
     "ename": "ERROR",
     "evalue": "Error in eval(expr, envir, enclos): object 'colunas' not found\n",
     "output_type": "error",
     "traceback": [
      "Error in eval(expr, envir, enclos): object 'colunas' not found\nTraceback:\n",
      "1. get_pnadc(year = 2023, quarter = 2, vars = colunas)",
      "2. PNADcIBGE::read_pnadc(microdata = microdatafile, input_txt = inputfile, \n .     vars = vars)"
     ]
    }
   ],
   "source": [
    "dados_pnadc <- get_pnadc(year=2023, quarter=2, vars=colunas)"
   ]
  },
  {
   "cell_type": "code",
   "execution_count": null,
   "id": "58e4f652-4572-4358-9435-6fdd1cf0193a",
   "metadata": {},
   "outputs": [],
   "source": [
    "# https://rpubs.com/BragaDouglas/335574\n",
    "mediaRendaUF <- svyby(~VD4020, ~UF, dados_pnadc, svymean, na.rm = T)\n",
    "mediaRendaUF"
   ]
  },
  {
   "cell_type": "code",
   "execution_count": 7,
   "id": "bc7883c3-42d3-4332-88d8-01d177609b10",
   "metadata": {},
   "outputs": [],
   "source": [
    "colunas <- trimws(readLines(\"data/columns.txt\"))\n",
    "\n",
    "dados_pnadc <- get_pnadc(year=2023, quarter=2, vars=colunas)\n",
    "\n",
    "formula_str <- paste(\"~\", paste(colunas, collapse=\"+\"))\n",
    "\n",
    "dataframe <- as.data.frame(svytable(as.formula(formula_str), design=dados_pnadc))\n",
    "\n",
    "filename <- \"data/dados.csv\"\n",
    "\n",
    "write.csv(dataframe, file=filename, row.names=FALSE)"
   ]
  },
  {
   "cell_type": "code",
   "execution_count": 18,
   "id": "96dbee41-0a21-4dec-82c7-f9a9ac19d73f",
   "metadata": {},
   "outputs": [
    {
     "name": "stderr",
     "output_type": "stream",
     "text": [
      "Updating HTML index of packages in '.Library'\n",
      "\n",
      "Making 'packages.html' ...\n",
      " done\n",
      "\n"
     ]
    }
   ],
   "source": [
    "install.packages(\"feather\")"
   ]
  },
  {
   "cell_type": "code",
   "execution_count": 19,
   "id": "577289c0-d816-4459-b05f-a0a94591aca0",
   "metadata": {},
   "outputs": [],
   "source": [
    "library(feather)"
   ]
  },
  {
   "cell_type": "code",
   "execution_count": null,
   "id": "98e2a427-1e57-493a-acd6-9f3f39762193",
   "metadata": {},
   "outputs": [],
   "source": []
  },
  {
   "cell_type": "code",
   "execution_count": null,
   "id": "df21c37d-e272-4cba-8843-9eb9ac402e8f",
   "metadata": {},
   "outputs": [],
   "source": []
  },
  {
   "cell_type": "code",
   "execution_count": null,
   "id": "4bb8e603-41b7-4de7-a149-787e2bc3580a",
   "metadata": {},
   "outputs": [],
   "source": []
  },
  {
   "cell_type": "code",
   "execution_count": null,
   "id": "2048128c-13db-49c4-8eea-4435d086e4fd",
   "metadata": {},
   "outputs": [],
   "source": []
  },
  {
   "cell_type": "code",
   "execution_count": 15,
   "id": "6ee3051e-76a7-4b43-801d-a9bba6bf022f",
   "metadata": {},
   "outputs": [
    {
     "ename": "ERROR",
     "evalue": "Error in write_parquet(dados_pnadc, nome_do_arquivo_parquet): could not find function \"write_parquet\"\n",
     "output_type": "error",
     "traceback": [
      "Error in write_parquet(dados_pnadc, nome_do_arquivo_parquet): could not find function \"write_parquet\"\nTraceback:\n"
     ]
    }
   ],
   "source": [
    "# Especifique o nome do arquivo Parquet\n",
    "nome_do_arquivo_parquet <- \"data/dados.parquet\"\n",
    "\n",
    "# Salve o objeto em formato Parquet\n",
    "write_parquet(dados_pnadc, nome_do_arquivo_parquet)"
   ]
  },
  {
   "cell_type": "code",
   "execution_count": 16,
   "id": "88538f47-77c5-40a8-8c12-6c6b7dd9eb49",
   "metadata": {},
   "outputs": [
    {
     "ename": "ERROR",
     "evalue": "\u001b[1m\u001b[33mError\u001b[39m in `tryCatchList()`:\u001b[22m\n\u001b[33m!\u001b[39m Object must be coercible to an Arrow Table using `as_arrow_table()`\n\u001b[1mCaused by error in `as_arrow_table()`:\u001b[22m\n\u001b[33m!\u001b[39m No method for `as_arrow_table()` for object of class svyrep.design\n",
     "output_type": "error",
     "traceback": [
      "\u001b[1m\u001b[33mError\u001b[39m in `tryCatchList()`:\u001b[22m\n\u001b[33m!\u001b[39m Object must be coercible to an Arrow Table using `as_arrow_table()`\n\u001b[1mCaused by error in `as_arrow_table()`:\u001b[22m\n\u001b[33m!\u001b[39m No method for `as_arrow_table()` for object of class svyrep.design\nTraceback:\n",
      "1. arrow::write_feather(dados_pnadc, nome_do_arquivo_parquet)",
      "2. as_writable_table(x)",
      "3. tryCatch(as_arrow_table(x), arrow_no_method_as_arrow_table = function(e) {\n .     abort(\"Object must be coercible to an Arrow Table using `as_arrow_table()`\", \n .         parent = e, call = caller_env(2))\n . })",
      "4. tryCatchList(expr, classes, parentenv, handlers)",
      "5. tryCatchOne(expr, names, parentenv, handlers[[1L]])",
      "6. value[[3L]](cond)",
      "7. abort(\"Object must be coercible to an Arrow Table using `as_arrow_table()`\", \n .     parent = e, call = caller_env(2))",
      "8. signal_abort(cnd, .file)"
     ]
    }
   ],
   "source": [
    "arrow::write_feather(dados_pnadc, nome_do_arquivo_parquet)"
   ]
  },
  {
   "cell_type": "code",
   "execution_count": null,
   "id": "bc41bdfd-ab86-4166-ab59-7e00129fa923",
   "metadata": {},
   "outputs": [],
   "source": []
  }
 ],
 "metadata": {
  "kernelspec": {
   "display_name": "R",
   "language": "R",
   "name": "ir"
  },
  "language_info": {
   "codemirror_mode": "r",
   "file_extension": ".r",
   "mimetype": "text/x-r-source",
   "name": "R",
   "pygments_lexer": "r",
   "version": "4.3.1"
  }
 },
 "nbformat": 4,
 "nbformat_minor": 5
}
